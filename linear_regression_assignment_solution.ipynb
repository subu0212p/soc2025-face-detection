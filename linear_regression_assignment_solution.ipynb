{
  "nbformat": 4,
  "nbformat_minor": 0,
  "metadata": {
    "colab": {
      "provenance": []
    },
    "kernelspec": {
      "name": "python3",
      "display_name": "Python 3"
    },
    "language_info": {
      "name": "python"
    }
  },
  "cells": [
    {
      "cell_type": "code",
      "execution_count": null,
      "metadata": {
        "id": "-zTLHrFCT6KY"
      },
      "outputs": [],
      "source": [
        "import numpy as np\n",
        "import pandas as pd\n",
        "import matplotlib.pyplot as plt\n",
        "\n",
        "# Aim is to predict the marks of students of the test data"
      ]
    },
    {
      "cell_type": "code",
      "source": [
        "# Use the file namd 'training data' to train the model\n",
        "\n",
        "data = pd.read_excel('Training data.xlsx')\n",
        "x_train = np.array(data.iloc[:,0:8])\n",
        "y_train = np.array(data.iloc[:,8]).reshape(-1,1)\n",
        "\n",
        "# Try plotting y_train with different features\n",
        "# To get an idea whether to add some features or not\n",
        "# Add some features if required in x_train\n",
        "\n",
        "# Also do label encoding for features not represented in numbers\n",
        "# refer the link if not know : https://youtu.be/589nCGeWG1w?si=t2Wa7LgbUOO4RooM\n",
        "\n",
        "def feature_changing(x_train):\n",
        "  # ---------\n",
        "    # Your code here\n",
        "\n",
        "    # Convert 'no'/'yes' in the first column to 0/1 (label encoding)\n",
        "    for i in range(x_train.shape[0]):\n",
        "        if x_train[i, 0] == 'no':\n",
        "            x_train[i, 0] = 0\n",
        "        else:\n",
        "            x_train[i, 0] = 1\n",
        "    x_train = np.delete(x_train, [1, 6], axis=1)\n",
        "    return x_train\n",
        "\n",
        "  # ---------\n",
        "\n",
        "x_train = feature_changing(x_train)"
      ],
      "metadata": {
        "id": "p0KHq8ZgTpU4"
      },
      "execution_count": null,
      "outputs": []
    },
    {
      "cell_type": "code",
      "source": [
        "def z_score(x_train):\n",
        "\n",
        "  # ---------\n",
        "    # write the code for feature scaling here\n",
        "    # Your code here\n",
        "    x_train = x_train.astype(float)  # in case anything is still string\n",
        "    x_std = np.std(x_train, axis=0)\n",
        "    x_mean = np.mean(x_train, axis=0)\n",
        "    # To avoid division by zero if any std is 0\n",
        "    x_std[x_std == 0] = 1e-10\n",
        "    x_train = (x_train - x_mean) / x_std\n",
        "    return x_train, x_std, x_mean\n",
        "  # ---------\n",
        "\n"
      ],
      "metadata": {
        "id": "tYshvtYlVour"
      },
      "execution_count": null,
      "outputs": []
    },
    {
      "cell_type": "code",
      "source": [
        "def cost(x_train,y_train,w,b):\n",
        "\n",
        "  # ---------\n",
        "    # Your code here\n",
        "    # Use mean square error as cost function\n",
        "    # return cost\n",
        "    m = x_train.shape[0]\n",
        "    total_loss = 0.0\n",
        "    for i in range(m):\n",
        "        y_hat = np.dot(x_train[i], w) + b\n",
        "        total_loss += (y_hat - y_train[i])**2\n",
        "    loss = total_loss / (2 * m)\n",
        "  # ---------\n",
        "\n",
        "    return loss"
      ],
      "metadata": {
        "id": "O5dOwbNbWJWa"
      },
      "execution_count": null,
      "outputs": []
    },
    {
      "cell_type": "code",
      "source": [
        "def gradient_descent(x_train,y_train,w,b):\n",
        "\n",
        "  # ---------\n",
        "    # Your code here\n",
        "    # Choose learning rate yourself\n",
        "    m, n = x_train.shape\n",
        "    alpha = 0.01\n",
        "    dj_dw = np.zeros((n, 1))\n",
        "    dj_db = 0.\n",
        "\n",
        "    for i in range(m):\n",
        "        err = np.dot(x_train[i], w) + b - y_train[i]\n",
        "        err = err.reshape(-1, 1)\n",
        "        dj_dw += x_train[i].reshape(-1, 1) * err\n",
        "        dj_db += err\n",
        "\n",
        "    dj_dw = dj_dw / m\n",
        "    dj_db = dj_db / m\n",
        "\n",
        "    w = w - alpha * dj_dw\n",
        "    b = b - alpha * dj_db\n",
        "\n",
        "\n",
        "  # ---------\n",
        "\n",
        "    return w,b"
      ],
      "metadata": {
        "id": "hW8p2cTNU74W"
      },
      "execution_count": null,
      "outputs": []
    },
    {
      "cell_type": "code",
      "source": [
        "x_train = x_train.astype(np.float64)\n",
        "x_train,x_std,x_mean = z_score(x_train)\n",
        "\n",
        "np.random.seed(2147483647)\n",
        "w = np.random.randn(x_train.shape[1],1)\n",
        "b = np.random.randn(1)\n",
        "\n",
        "old_cost = 0\n",
        "\n",
        "while abs(old_cost - cost(x_train,y_train,w,b))>0.00001:\n",
        "  old_cost = cost(x_train,y_train,w,b)\n",
        "  w,b = gradient_descent(x_train,y_train,w,b)\n",
        "\n",
        "x_predict = pd.read_excel('Test data.xlsx').iloc[:,:8].to_numpy()\n",
        "x_predict = feature_changing(x_predict)\n",
        "x_predict = (x_predict - x_mean)/x_std\n",
        "ans = pd.read_excel('Test data.xlsx').iloc[:,8].to_numpy()\n",
        "\n",
        "y_predict = np.dot(x_predict,w) + b\n",
        "\n",
        "accuracy = 0\n",
        "for dim in range(len(ans)):\n",
        "  if abs(y_predict[dim]-ans[dim])<0.5: # do not change the tolerance as you'll be checked on +- 0.5 error only\n",
        "    accuracy += 1\n",
        "accuracy = round(accuracy*100/200.0,2)\n",
        "ok = 'Congratulations' if accuracy>95 else 'Optimization required'\n",
        "print(f\"{ok}, your accuracy is {accuracy}%\")"
      ],
      "metadata": {
        "id": "Kl-fioJ5WkYn",
        "colab": {
          "base_uri": "https://localhost:8080/"
        },
        "outputId": "fe1c95dc-656e-46fc-a813-7b506f2ce5a9"
      },
      "execution_count": null,
      "outputs": [
        {
          "output_type": "stream",
          "name": "stdout",
          "text": [
            "Congratulations, your accuracy is 100.0%\n"
          ]
        }
      ]
    }
  ]
}